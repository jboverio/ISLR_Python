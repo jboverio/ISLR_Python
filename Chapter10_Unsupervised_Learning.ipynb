{
 "cells": [
  {
   "cell_type": "markdown",
   "metadata": {},
   "source": [
    "# Chapter 10 - Unsupervised Learning"
   ]
  },
  {
   "cell_type": "markdown",
   "metadata": {},
   "source": [
    "[10.2 Principal Components Analysis](#10.2-Principal-Components-Analysis)\n",
    "> [10.2.1 What Are Principal Components?](#10.2.1-What-Are-Principal-Components?)<br>\n",
    "> [10.2.3 More on PCA](#10.2.3-More-on-PCA)\n",
    "\n",
    "[10.4 Lab 1: Principal Components Analysis](#10.4-Lab-1:-Principal-Components-Analysis)\n",
    "\n",
    "[10.5 Lab 2: Clustering](#10.5-Lab-2:-Clustering)\n",
    "> [10.5.1 K-Means Clustering](#10.5.1-K-Means-Clustering)<br>\n",
    "> [10.5.2 Hierarchical Clustering](#10.5.2-Hierarchical-Clustering)\n",
    "\n",
    "[10.6 Lab 3: NCI60 Data Example](#10.6-Lab-3:-NCI60-Data-Example)\n",
    "> [10.6.1 PCA on the NCI60 Data](#10.6.1-PCA-on-the-NCI60-Data)"
   ]
  },
  {
   "cell_type": "code",
   "execution_count": 205,
   "metadata": {},
   "outputs": [],
   "source": [
    "import pandas as pd\n",
    "import numpy as np\n",
    "import matplotlib as mpl\n",
    "import matplotlib.pyplot as plt\n",
    "import seaborn as sns\n",
    "\n",
    "from sklearn.model_selection import train_test_split, cross_val_score\n",
    "from sklearn.model_selection import GridSearchCV\n",
    "\n",
    "from sklearn.preprocessing import StandardScaler\n",
    "from sklearn.pipeline import make_pipeline\n",
    "\n",
    "\n",
    "from sklearn.decomposition import PCA\n",
    "from sklearn.cluster import KMeans, AgglomerativeClustering\n",
    "from scipy.cluster.hierarchy import dendrogram\n",
    "from sklearn.metrics.pairwise import pairwise_distances\n",
    "\n",
    "%matplotlib inline\n",
    "plt.style.use('seaborn-white')"
   ]
  },
  {
   "cell_type": "markdown",
   "metadata": {},
   "source": [
    "## 10.2 Principal Components Analysis"
   ]
  },
  {
   "cell_type": "markdown",
   "metadata": {},
   "source": [
    "### 10.2.1 What Are Principal Components?"
   ]
  },
  {
   "cell_type": "code",
   "execution_count": 3,
   "metadata": {},
   "outputs": [
    {
     "data": {
      "text/html": [
       "<div>\n",
       "<style scoped>\n",
       "    .dataframe tbody tr th:only-of-type {\n",
       "        vertical-align: middle;\n",
       "    }\n",
       "\n",
       "    .dataframe tbody tr th {\n",
       "        vertical-align: top;\n",
       "    }\n",
       "\n",
       "    .dataframe thead th {\n",
       "        text-align: right;\n",
       "    }\n",
       "</style>\n",
       "<table border=\"1\" class=\"dataframe\">\n",
       "  <thead>\n",
       "    <tr style=\"text-align: right;\">\n",
       "      <th></th>\n",
       "      <th>Murder</th>\n",
       "      <th>Assault</th>\n",
       "      <th>UrbanPop</th>\n",
       "      <th>Rape</th>\n",
       "    </tr>\n",
       "  </thead>\n",
       "  <tbody>\n",
       "    <tr>\n",
       "      <th>Alabama</th>\n",
       "      <td>13.2</td>\n",
       "      <td>236</td>\n",
       "      <td>58</td>\n",
       "      <td>21.2</td>\n",
       "    </tr>\n",
       "    <tr>\n",
       "      <th>Alaska</th>\n",
       "      <td>10.0</td>\n",
       "      <td>263</td>\n",
       "      <td>48</td>\n",
       "      <td>44.5</td>\n",
       "    </tr>\n",
       "    <tr>\n",
       "      <th>Arizona</th>\n",
       "      <td>8.1</td>\n",
       "      <td>294</td>\n",
       "      <td>80</td>\n",
       "      <td>31.0</td>\n",
       "    </tr>\n",
       "    <tr>\n",
       "      <th>Arkansas</th>\n",
       "      <td>8.8</td>\n",
       "      <td>190</td>\n",
       "      <td>50</td>\n",
       "      <td>19.5</td>\n",
       "    </tr>\n",
       "    <tr>\n",
       "      <th>California</th>\n",
       "      <td>9.0</td>\n",
       "      <td>276</td>\n",
       "      <td>91</td>\n",
       "      <td>40.6</td>\n",
       "    </tr>\n",
       "  </tbody>\n",
       "</table>\n",
       "</div>"
      ],
      "text/plain": [
       "            Murder  Assault  UrbanPop  Rape\n",
       "Alabama       13.2      236        58  21.2\n",
       "Alaska        10.0      263        48  44.5\n",
       "Arizona        8.1      294        80  31.0\n",
       "Arkansas       8.8      190        50  19.5\n",
       "California     9.0      276        91  40.6"
      ]
     },
     "execution_count": 3,
     "metadata": {},
     "output_type": "execute_result"
    }
   ],
   "source": [
    "df_heart = pd.read_csv('Data/USArrests.csv', index_col=0).dropna()\n",
    "df_heart.head()"
   ]
  },
  {
   "cell_type": "code",
   "execution_count": 5,
   "metadata": {},
   "outputs": [],
   "source": [
    "X = df_heart.values"
   ]
  },
  {
   "cell_type": "code",
   "execution_count": 111,
   "metadata": {},
   "outputs": [],
   "source": [
    "scaled_pca = make_pipeline(StandardScaler(), PCA(n_components=2, whiten=False))\n",
    "pca = scaled_pca.named_steps['pca']\n",
    "pcaX = scaled_pca.fit_transform(X)\n",
    "pcaX = pcaX[:,:2]"
   ]
  },
  {
   "cell_type": "markdown",
   "metadata": {},
   "source": [
    "#### FIGURE 10.1"
   ]
  },
  {
   "cell_type": "code",
   "execution_count": 112,
   "metadata": {},
   "outputs": [
    {
     "data": {
      "image/png": "[encoded data removed]",
      "text/plain": [
       "<Figure size 576x576 with 1 Axes>"
      ]
     },
     "metadata": {},
     "output_type": "display_data"
    }
   ],
   "source": [
    "# the second pca component is inverted so the plot matches the book\n",
    "# the original features as a function of the principal components have been scaled by 2 so they can be seen easier\n",
    "\n",
    "fig, ax = plt.subplots(figsize=(8,8))\n",
    "\n",
    "ax.scatter(pcaX[:, 0], pcaX[:, 1], s=0)\n",
    "ax.set_xlabel('1st PC')\n",
    "ax.set_ylabel('2nd PC')\n",
    "\n",
    "for i, txt in enumerate(df_heart.index):\n",
    "    ax.annotate(txt, (pcaX[i, 0], -pcaX[i, 1]), horizontalalignment='center', verticalalignment='center', color='b')\n",
    "    \n",
    "components = pca.components_\n",
    "for i, col in enumerate(df_heart.columns.tolist()):\n",
    "    ax.annotate('', xy=(2*components[0, i], -2*components[1, i]), xytext=(0, 0), arrowprops=dict(arrowstyle=\"->\", ec=\"orange\"))\n",
    "    ax.text(2*components[0, i], -2*components[1, i], col, size=15, color='orange')\n",
    "    \n",
    "ax.set_ylim(ax.get_xlim());"
   ]
  },
  {
   "cell_type": "markdown",
   "metadata": {},
   "source": [
    "### 10.2.3 More on PCA"
   ]
  },
  {
   "cell_type": "code",
   "execution_count": 116,
   "metadata": {},
   "outputs": [
    {
     "data": {
      "text/plain": [
       "Pipeline(memory=None,\n",
       "     steps=[('standardscaler', StandardScaler(copy=True, with_mean=True, with_std=True)), ('pca', PCA(copy=True, iterated_power='auto', n_components=None, random_state=None,\n",
       "  svd_solver='auto', tol=0.0, whiten=False))])"
      ]
     },
     "execution_count": 116,
     "metadata": {},
     "output_type": "execute_result"
    }
   ],
   "source": [
    "scaled_pca = make_pipeline(StandardScaler(), PCA())\n",
    "pca = scaled_pca.named_steps['pca']\n",
    "scaled_pca.fit(X)"
   ]
  },
  {
   "cell_type": "markdown",
   "metadata": {},
   "source": [
    "#### FIGURE 10.4"
   ]
  },
  {
   "cell_type": "code",
   "execution_count": 142,
   "metadata": {},
   "outputs": [
    {
     "data": {
      "image/png": "[encoded data removed]",
      "text/plain": [
       "<Figure size 720x288 with 2 Axes>"
      ]
     },
     "metadata": {},
     "output_type": "display_data"
    }
   ],
   "source": [
    "fig, (ax1, ax2) = plt.subplots(1, 2, figsize=(10,4))\n",
    "\n",
    "ax1.plot(range(0, pca.n_components_), pca.explained_variance_ratio_, '.-')\n",
    "ax1.set_ylabel('Prop. Variance Explained')\n",
    "\n",
    "ax2.plot(range(0, pca.n_components_), np.cumsum(pca.explained_variance_ratio_), '.-')\n",
    "ax2.set_ylabel('Cumulative Prop. Variance Explained')\n",
    "\n",
    "for ax in (ax1, ax2):\n",
    "    ax.set_ylim(bottom=-0.05, top=1.05)\n",
    "    ax.get_xaxis().set_major_locator(mpl.ticker.MaxNLocator(integer=True))\n",
    "    ax.set_xlabel('Principal Component')"
   ]
  },
  {
   "cell_type": "markdown",
   "metadata": {},
   "source": [
    "## 10.3 Clustering Methods"
   ]
  },
  {
   "cell_type": "markdown",
   "metadata": {},
   "source": [
    "## 10.4 Lab 1: Principal Components Analysis"
   ]
  },
  {
   "cell_type": "markdown",
   "metadata": {},
   "source": [
    "Already done in [10.2 Principal Components Analysis](#10.2-Principal-Components-Analysis)"
   ]
  },
  {
   "cell_type": "markdown",
   "metadata": {},
   "source": [
    "## 10.5 Lab 2: Clustering"
   ]
  },
  {
   "cell_type": "markdown",
   "metadata": {},
   "source": [
    "### 10.5.1 K-Means Clustering"
   ]
  },
  {
   "cell_type": "code",
   "execution_count": 150,
   "metadata": {},
   "outputs": [],
   "source": [
    "# generate random data\n",
    "X = np.random.normal(size=(50,2))\n",
    "X[:25, 0] += 3\n",
    "X[:25, 1] -= 2"
   ]
  },
  {
   "cell_type": "code",
   "execution_count": 154,
   "metadata": {},
   "outputs": [
    {
     "data": {
      "text/plain": [
       "KMeans(algorithm='auto', copy_x=True, init='k-means++', max_iter=300,\n",
       "    n_clusters=2, n_init=20, n_jobs=1, precompute_distances='auto',\n",
       "    random_state=None, tol=0.0001, verbose=0)"
      ]
     },
     "execution_count": 154,
     "metadata": {},
     "output_type": "execute_result"
    }
   ],
   "source": [
    "kmeans = KMeans(n_clusters=2, n_init=20)\n",
    "kmeans.fit(X)"
   ]
  },
  {
   "cell_type": "code",
   "execution_count": 157,
   "metadata": {},
   "outputs": [
    {
     "data": {
      "text/plain": [
       "<matplotlib.collections.PathCollection at 0x2171753e7b8>"
      ]
     },
     "execution_count": 157,
     "metadata": {},
     "output_type": "execute_result"
    },
    {
     "data": {
      "image/png": "[encoded data removed]",
      "text/plain": [
       "<Figure size 432x288 with 1 Axes>"
      ]
     },
     "metadata": {},
     "output_type": "display_data"
    }
   ],
   "source": [
    "plt.scatter(X[:,0], X[:,1], c=kmeans.labels_, cmap=plt.get_cmap('coolwarm'))"
   ]
  },
  {
   "cell_type": "code",
   "execution_count": 163,
   "metadata": {},
   "outputs": [
    {
     "name": "stdout",
     "output_type": "stream",
     "text": [
      "Cluster means:\n",
      " [[ 0.77236601 -0.729053  ]\n",
      " [ 3.46854826 -2.08063173]\n",
      " [-0.54830712  0.58047887]]\n",
      "Clustering vector:\n",
      " [1 1 1 1 1 1 1 1 1 1 1 1 1 0 1 1 1 1 1 0 0 1 1 1 1 0 0 0 0 2 0 0 2 2 0 0 0\n",
      " 2 0 0 0 2 2 2 2 2 0 2 0 2]\n",
      "Total sum of squares to cluster:\n",
      " 62.71963243067604\n"
     ]
    }
   ],
   "source": [
    "kmeans = KMeans(n_clusters=3, n_init=20)\n",
    "kmeans.fit(X)\n",
    "print('Cluster means:\\n', kmeans.cluster_centers_)\n",
    "print('Clustering vector:\\n', kmeans.labels_)\n",
    "print('Total sum of squares to cluster:\\n', kmeans.inertia_)"
   ]
  },
  {
   "cell_type": "code",
   "execution_count": 164,
   "metadata": {},
   "outputs": [
    {
     "name": "stdout",
     "output_type": "stream",
     "text": [
      "62.90347733876541\n",
      "62.71963243067604\n"
     ]
    }
   ],
   "source": [
    "# compare different n_init\n",
    "kmeans = KMeans(n_clusters=3, n_init=1)\n",
    "kmeans.fit(X)\n",
    "print(kmeans.inertia_)\n",
    "kmeans = KMeans(n_clusters=3, n_init=20)\n",
    "kmeans.fit(X)\n",
    "print(kmeans.inertia_)"
   ]
  },
  {
   "cell_type": "markdown",
   "metadata": {},
   "source": [
    "### 10.5.2 Hierarchical Clustering"
   ]
  },
  {
   "cell_type": "code",
   "execution_count": 169,
   "metadata": {},
   "outputs": [],
   "source": [
    "agg_complete = AgglomerativeClustering(affinity='euclidean', linkage='complete').fit(X)\n",
    "agg_average = AgglomerativeClustering(affinity='euclidean', linkage='average').fit(X)\n",
    "agg_ward = AgglomerativeClustering(affinity='euclidean', linkage='ward').fit(X)"
   ]
  },
  {
   "cell_type": "code",
   "execution_count": 180,
   "metadata": {},
   "outputs": [],
   "source": [
    "def plot_dendrogram(model, **kwargs):\n",
    "    # Children of hierarchical clustering\n",
    "    children = model.children_\n",
    "\n",
    "    # Distances between each pair of children\n",
    "    # Since we don't have this information, we can use a uniform one for plotting\n",
    "    distance = np.arange(children.shape[0])\n",
    "\n",
    "    # The number of observations contained in each cluster level\n",
    "    no_of_observations = np.arange(2, children.shape[0]+2)\n",
    "\n",
    "    # Create linkage matrix and then plot the dendrogram\n",
    "    linkage_matrix = np.column_stack([children, distance, no_of_observations]).astype(float)\n",
    "    \n",
    "    labels = model.labels_\n",
    "\n",
    "    # Plot the corresponding dendrogram\n",
    "    dendrogram(linkage_matrix, labels=labels, **kwargs)"
   ]
  },
  {
   "cell_type": "code",
   "execution_count": 184,
   "metadata": {},
   "outputs": [
    {
     "data": {
      "image/png": "[encoded data removed]",
      "text/plain": [
       "<Figure size 1080x288 with 3 Axes>"
      ]
     },
     "metadata": {},
     "output_type": "display_data"
    }
   ],
   "source": [
    "fig, (ax1, ax2, ax3) = plt.subplots(1, 3, figsize=(15,4))\n",
    "\n",
    "color_threshold = 48\n",
    "\n",
    "ax1.set_title('Complete linkage')\n",
    "ax2.set_title('Average linkage')\n",
    "ax3.set_title('Ward linkage')\n",
    "\n",
    "plot_dendrogram(agg_complete, color_threshold=color_threshold, ax=ax1)\n",
    "plot_dendrogram(agg_average, color_threshold=color_threshold, ax=ax2)\n",
    "plot_dendrogram(agg_ward, color_threshold=color_threshold, ax=ax3)"
   ]
  },
  {
   "cell_type": "code",
   "execution_count": 191,
   "metadata": {},
   "outputs": [
    {
     "data": {
      "image/png": "[encoded data removed]",
      "text/plain": [
       "<Figure size 432x288 with 1 Axes>"
      ]
     },
     "metadata": {},
     "output_type": "display_data"
    }
   ],
   "source": [
    "# with scaling\n",
    "agg_complete_scaled = AgglomerativeClustering(affinity='euclidean', linkage='complete').fit(StandardScaler().fit_transform(X))\n",
    "plt.title('Complete linkage, scaled features')\n",
    "plot_dendrogram(agg_complete, color_threshold=color_threshold)"
   ]
  },
  {
   "cell_type": "code",
   "execution_count": 206,
   "metadata": {},
   "outputs": [
    {
     "data": {
      "image/png": "[encoded data removed]",
      "text/plain": [
       "<Figure size 432x288 with 1 Axes>"
      ]
     },
     "metadata": {},
     "output_type": "display_data"
    }
   ],
   "source": [
    "# correlated distances\n",
    "X3 = np.random.normal(size=(50,3))\n",
    "\n",
    "corr_X = pairwise_distances(X3, metric=\"correlation\")\n",
    "agg_corr = AgglomerativeClustering(affinity='precomputed', linkage='complete').fit(StandardScaler().fit_transform(corr_X))\n",
    "plt.title('Correlated distances')\n",
    "plot_dendrogram(agg_corr, color_threshold=color_threshold)"
   ]
  },
  {
   "cell_type": "markdown",
   "metadata": {},
   "source": [
    "## 10.6 Lab 3: NCI60 Data Example"
   ]
  },
  {
   "cell_type": "code",
   "execution_count": 220,
   "metadata": {},
   "outputs": [],
   "source": [
    "from pandas.io.json import json_normalize"
   ]
  },
  {
   "cell_type": "code",
   "execution_count": 260,
   "metadata": {},
   "outputs": [
    {
     "data": {
      "text/html": [
       "<div>\n",
       "<style scoped>\n",
       "    .dataframe tbody tr th:only-of-type {\n",
       "        vertical-align: middle;\n",
       "    }\n",
       "\n",
       "    .dataframe tbody tr th {\n",
       "        vertical-align: top;\n",
       "    }\n",
       "\n",
       "    .dataframe thead th {\n",
       "        text-align: right;\n",
       "    }\n",
       "</style>\n",
       "<table border=\"1\" class=\"dataframe\">\n",
       "  <thead>\n",
       "    <tr style=\"text-align: right;\">\n",
       "      <th></th>\n",
       "      <th>data</th>\n",
       "      <th>labs</th>\n",
       "    </tr>\n",
       "  </thead>\n",
       "  <tbody>\n",
       "    <tr>\n",
       "      <th>0</th>\n",
       "      <td>{'1': 0.30000000000000004, '2': 1.18, '3': 0.5...</td>\n",
       "      <td>CNS</td>\n",
       "    </tr>\n",
       "    <tr>\n",
       "      <th>1</th>\n",
       "      <td>{'1': 0.67996, '2': 1.29, '3': 0.1699600000000...</td>\n",
       "      <td>CNS</td>\n",
       "    </tr>\n",
       "    <tr>\n",
       "      <th>2</th>\n",
       "      <td>{'1': 0.9400000000000001, '2': -0.04, '3': -0....</td>\n",
       "      <td>CNS</td>\n",
       "    </tr>\n",
       "    <tr>\n",
       "      <th>3</th>\n",
       "      <td>{'1': 0.28, '2': -0.31, '3': 0.68, '4': -0.81,...</td>\n",
       "      <td>RENAL</td>\n",
       "    </tr>\n",
       "    <tr>\n",
       "      <th>4</th>\n",
       "      <td>{'1': 0.485, '2': -0.465, '3': 0.395, '4': 0.9...</td>\n",
       "      <td>BREAST</td>\n",
       "    </tr>\n",
       "  </tbody>\n",
       "</table>\n",
       "</div>"
      ],
      "text/plain": [
       "                                                data    labs\n",
       "0  {'1': 0.30000000000000004, '2': 1.18, '3': 0.5...     CNS\n",
       "1  {'1': 0.67996, '2': 1.29, '3': 0.1699600000000...     CNS\n",
       "2  {'1': 0.9400000000000001, '2': -0.04, '3': -0....     CNS\n",
       "3  {'1': 0.28, '2': -0.31, '3': 0.68, '4': -0.81,...   RENAL\n",
       "4  {'1': 0.485, '2': -0.465, '3': 0.395, '4': 0.9...  BREAST"
      ]
     },
     "execution_count": 260,
     "metadata": {},
     "output_type": "execute_result"
    }
   ],
   "source": [
    "df_ncl60_raw = pd.read_json('Data/NCI60.json', orient='records')\n",
    "df_ncl60_raw.head()"
   ]
  },
  {
   "cell_type": "code",
   "execution_count": 261,
   "metadata": {},
   "outputs": [
    {
     "data": {
      "text/plain": [
       "0    {'1': 0.30000000000000004, '2': 1.18, '3': 0.5...\n",
       "1    {'1': 0.67996, '2': 1.29, '3': 0.1699600000000...\n",
       "2    {'1': 0.9400000000000001, '2': -0.04, '3': -0....\n",
       "3    {'1': 0.28, '2': -0.31, '3': 0.68, '4': -0.81,...\n",
       "4    {'1': 0.485, '2': -0.465, '3': 0.395, '4': 0.9...\n",
       "Name: data, dtype: object"
      ]
     },
     "execution_count": 261,
     "metadata": {},
     "output_type": "execute_result"
    }
   ],
   "source": [
    "df_ncl60_raw.data.head()"
   ]
  },
  {
   "cell_type": "code",
   "execution_count": 273,
   "metadata": {},
   "outputs": [
    {
     "name": "stdout",
     "output_type": "stream",
     "text": [
      "<class 'pandas.core.frame.DataFrame'>\n",
      "CategoricalIndex: 64 entries, CNS to MELANOMA\n",
      "Columns: 6830 entries, 1 to 6830\n",
      "dtypes: float64(6830)\n",
      "memory usage: 3.3 MB\n"
     ]
    }
   ],
   "source": [
    "df_ncl60.info()"
   ]
  },
  {
   "cell_type": "code",
   "execution_count": 271,
   "metadata": {},
   "outputs": [
    {
     "data": {
      "text/html": [
       "<div>\n",
       "<style scoped>\n",
       "    .dataframe tbody tr th:only-of-type {\n",
       "        vertical-align: middle;\n",
       "    }\n",
       "\n",
       "    .dataframe tbody tr th {\n",
       "        vertical-align: top;\n",
       "    }\n",
       "\n",
       "    .dataframe thead th {\n",
       "        text-align: right;\n",
       "    }\n",
       "</style>\n",
       "<table border=\"1\" class=\"dataframe\">\n",
       "  <thead>\n",
       "    <tr style=\"text-align: right;\">\n",
       "      <th></th>\n",
       "      <th>1</th>\n",
       "      <th>2</th>\n",
       "      <th>3</th>\n",
       "      <th>4</th>\n",
       "      <th>5</th>\n",
       "      <th>6</th>\n",
       "      <th>7</th>\n",
       "      <th>8</th>\n",
       "      <th>9</th>\n",
       "      <th>10</th>\n",
       "      <th>...</th>\n",
       "      <th>6821</th>\n",
       "      <th>6822</th>\n",
       "      <th>6823</th>\n",
       "      <th>6824</th>\n",
       "      <th>6825</th>\n",
       "      <th>6826</th>\n",
       "      <th>6827</th>\n",
       "      <th>6828</th>\n",
       "      <th>6829</th>\n",
       "      <th>6830</th>\n",
       "    </tr>\n",
       "    <tr>\n",
       "      <th>labs</th>\n",
       "      <th></th>\n",
       "      <th></th>\n",
       "      <th></th>\n",
       "      <th></th>\n",
       "      <th></th>\n",
       "      <th></th>\n",
       "      <th></th>\n",
       "      <th></th>\n",
       "      <th></th>\n",
       "      <th></th>\n",
       "      <th></th>\n",
       "      <th></th>\n",
       "      <th></th>\n",
       "      <th></th>\n",
       "      <th></th>\n",
       "      <th></th>\n",
       "      <th></th>\n",
       "      <th></th>\n",
       "      <th></th>\n",
       "      <th></th>\n",
       "      <th></th>\n",
       "    </tr>\n",
       "  </thead>\n",
       "  <tbody>\n",
       "    <tr>\n",
       "      <th>CNS</th>\n",
       "      <td>0.30000</td>\n",
       "      <td>1.180</td>\n",
       "      <td>0.55000</td>\n",
       "      <td>1.14000</td>\n",
       "      <td>-0.26500</td>\n",
       "      <td>-7.000000e-02</td>\n",
       "      <td>0.35000</td>\n",
       "      <td>-0.31500</td>\n",
       "      <td>-0.450000</td>\n",
       "      <td>-0.654980</td>\n",
       "      <td>...</td>\n",
       "      <td>-0.99002</td>\n",
       "      <td>0.00000</td>\n",
       "      <td>0.03000</td>\n",
       "      <td>-0.17500</td>\n",
       "      <td>0.62998</td>\n",
       "      <td>-0.03000</td>\n",
       "      <td>0.00</td>\n",
       "      <td>0.28000</td>\n",
       "      <td>-0.34000</td>\n",
       "      <td>-1.930</td>\n",
       "    </tr>\n",
       "    <tr>\n",
       "      <th>CNS</th>\n",
       "      <td>0.67996</td>\n",
       "      <td>1.290</td>\n",
       "      <td>0.16996</td>\n",
       "      <td>0.37996</td>\n",
       "      <td>0.46496</td>\n",
       "      <td>5.799600e-01</td>\n",
       "      <td>0.69996</td>\n",
       "      <td>0.72496</td>\n",
       "      <td>-0.040039</td>\n",
       "      <td>-0.285020</td>\n",
       "      <td>...</td>\n",
       "      <td>-0.27006</td>\n",
       "      <td>-0.30004</td>\n",
       "      <td>-0.25004</td>\n",
       "      <td>-0.53504</td>\n",
       "      <td>0.10994</td>\n",
       "      <td>-0.86004</td>\n",
       "      <td>-1.25</td>\n",
       "      <td>-0.77004</td>\n",
       "      <td>-0.39004</td>\n",
       "      <td>-2.000</td>\n",
       "    </tr>\n",
       "    <tr>\n",
       "      <th>CNS</th>\n",
       "      <td>0.94000</td>\n",
       "      <td>-0.040</td>\n",
       "      <td>-0.17000</td>\n",
       "      <td>-0.04000</td>\n",
       "      <td>-0.60500</td>\n",
       "      <td>0.000000e+00</td>\n",
       "      <td>0.09000</td>\n",
       "      <td>0.64500</td>\n",
       "      <td>0.430000</td>\n",
       "      <td>0.475020</td>\n",
       "      <td>...</td>\n",
       "      <td>0.31998</td>\n",
       "      <td>0.12000</td>\n",
       "      <td>-0.74000</td>\n",
       "      <td>-0.59500</td>\n",
       "      <td>-0.27002</td>\n",
       "      <td>-0.15000</td>\n",
       "      <td>0.00</td>\n",
       "      <td>-0.12000</td>\n",
       "      <td>-0.41000</td>\n",
       "      <td>0.000</td>\n",
       "    </tr>\n",
       "    <tr>\n",
       "      <th>RENAL</th>\n",
       "      <td>0.28000</td>\n",
       "      <td>-0.310</td>\n",
       "      <td>0.68000</td>\n",
       "      <td>-0.81000</td>\n",
       "      <td>0.62500</td>\n",
       "      <td>-1.387800e-17</td>\n",
       "      <td>0.17000</td>\n",
       "      <td>0.24500</td>\n",
       "      <td>0.020000</td>\n",
       "      <td>0.095019</td>\n",
       "      <td>...</td>\n",
       "      <td>-1.24000</td>\n",
       "      <td>-0.11000</td>\n",
       "      <td>-0.16000</td>\n",
       "      <td>0.09500</td>\n",
       "      <td>-0.35002</td>\n",
       "      <td>-0.30000</td>\n",
       "      <td>-1.15</td>\n",
       "      <td>1.09000</td>\n",
       "      <td>-0.26000</td>\n",
       "      <td>-1.100</td>\n",
       "    </tr>\n",
       "    <tr>\n",
       "      <th>BREAST</th>\n",
       "      <td>0.48500</td>\n",
       "      <td>-0.465</td>\n",
       "      <td>0.39500</td>\n",
       "      <td>0.90500</td>\n",
       "      <td>0.20000</td>\n",
       "      <td>-5.000000e-03</td>\n",
       "      <td>0.08500</td>\n",
       "      <td>0.11000</td>\n",
       "      <td>0.235000</td>\n",
       "      <td>1.490000</td>\n",
       "      <td>...</td>\n",
       "      <td>0.55498</td>\n",
       "      <td>-0.77500</td>\n",
       "      <td>-0.51500</td>\n",
       "      <td>-0.32000</td>\n",
       "      <td>0.63498</td>\n",
       "      <td>0.60500</td>\n",
       "      <td>0.00</td>\n",
       "      <td>0.74500</td>\n",
       "      <td>0.42500</td>\n",
       "      <td>0.145</td>\n",
       "    </tr>\n",
       "  </tbody>\n",
       "</table>\n",
       "<p>5 rows × 6830 columns</p>\n",
       "</div>"
      ],
      "text/plain": [
       "           1      2        3        4        5             6        7     \\\n",
       "labs                                                                       \n",
       "CNS     0.30000  1.180  0.55000  1.14000 -0.26500 -7.000000e-02  0.35000   \n",
       "CNS     0.67996  1.290  0.16996  0.37996  0.46496  5.799600e-01  0.69996   \n",
       "CNS     0.94000 -0.040 -0.17000 -0.04000 -0.60500  0.000000e+00  0.09000   \n",
       "RENAL   0.28000 -0.310  0.68000 -0.81000  0.62500 -1.387800e-17  0.17000   \n",
       "BREAST  0.48500 -0.465  0.39500  0.90500  0.20000 -5.000000e-03  0.08500   \n",
       "\n",
       "           8         9         10    ...       6821     6822     6823  \\\n",
       "labs                                 ...                                \n",
       "CNS    -0.31500 -0.450000 -0.654980  ...   -0.99002  0.00000  0.03000   \n",
       "CNS     0.72496 -0.040039 -0.285020  ...   -0.27006 -0.30004 -0.25004   \n",
       "CNS     0.64500  0.430000  0.475020  ...    0.31998  0.12000 -0.74000   \n",
       "RENAL   0.24500  0.020000  0.095019  ...   -1.24000 -0.11000 -0.16000   \n",
       "BREAST  0.11000  0.235000  1.490000  ...    0.55498 -0.77500 -0.51500   \n",
       "\n",
       "           6824     6825     6826  6827     6828     6829   6830  \n",
       "labs                                                              \n",
       "CNS    -0.17500  0.62998 -0.03000  0.00  0.28000 -0.34000 -1.930  \n",
       "CNS    -0.53504  0.10994 -0.86004 -1.25 -0.77004 -0.39004 -2.000  \n",
       "CNS    -0.59500 -0.27002 -0.15000  0.00 -0.12000 -0.41000  0.000  \n",
       "RENAL   0.09500 -0.35002 -0.30000 -1.15  1.09000 -0.26000 -1.100  \n",
       "BREAST -0.32000  0.63498  0.60500  0.00  0.74500  0.42500  0.145  \n",
       "\n",
       "[5 rows x 6830 columns]"
      ]
     },
     "execution_count": 271,
     "metadata": {},
     "output_type": "execute_result"
    }
   ],
   "source": [
    "# get data\n",
    "df_ncl60 = json_normalize(df_ncl60_raw.data)\n",
    "# rename columns so they are integers and not strings\n",
    "df_ncl60.rename(columns=lambda name: int(name), inplace=True)\n",
    "# sort columns \n",
    "df_ncl60 = df_norm.reindex(columns=sorted(df_norm.columns))\n",
    "# each row is a type of cancer\n",
    "df_ncl60.index = pd.CategoricalIndex(df_ncl60_raw.labs)\n",
    "df_ncl60.head()"
   ]
  },
  {
   "cell_type": "code",
   "execution_count": 272,
   "metadata": {},
   "outputs": [
    {
     "data": {
      "text/plain": [
       "RENAL          9\n",
       "NSCLC          9\n",
       "MELANOMA       8\n",
       "COLON          7\n",
       "BREAST         7\n",
       "OVARIAN        6\n",
       "LEUKEMIA       6\n",
       "CNS            5\n",
       "PROSTATE       2\n",
       "UNKNOWN        1\n",
       "MCF7D-repro    1\n",
       "MCF7A-repro    1\n",
       "K562B-repro    1\n",
       "K562A-repro    1\n",
       "Name: labs, dtype: int64"
      ]
     },
     "execution_count": 272,
     "metadata": {},
     "output_type": "execute_result"
    }
   ],
   "source": [
    "df_ncl60.index.value_counts()"
   ]
  },
  {
   "cell_type": "code",
   "execution_count": 290,
   "metadata": {},
   "outputs": [
    {
     "data": {
      "text/plain": [
       "array([ 1,  1,  1, 12,  0,  1,  1,  0,  9,  9, 12, 12, 12, 12, 12, 12, 12,\n",
       "        0,  9, 12, 13, 10,  8, 11, 10, 10, 10, 10, 10, 11,  9,  9,  9,  5,\n",
       "        4,  3,  5,  5,  5,  5,  5,  2,  2,  2,  2,  2,  2,  2,  6,  0,  7,\n",
       "        0,  9,  9,  9,  8,  0,  0,  8,  8,  8,  8,  8,  8], dtype=int8)"
      ]
     },
     "execution_count": 290,
     "metadata": {},
     "output_type": "execute_result"
    }
   ],
   "source": [
    "df_ncl60.index.codes"
   ]
  },
  {
   "cell_type": "markdown",
   "metadata": {},
   "source": [
    "### 10.6.1 PCA on the NCI60 Data"
   ]
  },
  {
   "cell_type": "code",
   "execution_count": 279,
   "metadata": {},
   "outputs": [],
   "source": [
    "scaled_pca = make_pipeline(StandardScaler(), PCA())\n",
    "pca = scaled_pca.named_steps['pca']\n",
    "pcaX = scaled_pca.fit_transform(df_ncl60)\n",
    "pcaX = pcaX[:,:3]"
   ]
  },
  {
   "cell_type": "code",
   "execution_count": 297,
   "metadata": {},
   "outputs": [
    {
     "data": {
      "image/png": "[encoded data removed]",
      "text/plain": [
       "<Figure size 720x288 with 2 Axes>"
      ]
     },
     "metadata": {},
     "output_type": "display_data"
    }
   ],
   "source": [
    "fig, (ax1, ax2) = plt.subplots(1, 2, figsize=(10,4))\n",
    "\n",
    "ax1.scatter(pcaX[:,0], -pcaX[:,1], c=df_ncl60.index.codes, cmap=plt.get_cmap('rainbow'))\n",
    "ax1.set_xlabel('Z0')\n",
    "ax1.set_ylabel('Z1')\n",
    "ax2.scatter(pcaX[:,0], pcaX[:,2], c=df_ncl60.index.codes, cmap=plt.get_cmap('rainbow'))\n",
    "ax1.set_xlabel('Z0')\n",
    "ax1.set_ylabel('Z2');"
   ]
  },
  {
   "cell_type": "code",
   "execution_count": 340,
   "metadata": {},
   "outputs": [
    {
     "data": {
      "image/png": "[encoded data removed]",
      "text/plain": [
       "<Figure size 720x288 with 2 Axes>"
      ]
     },
     "metadata": {},
     "output_type": "display_data"
    }
   ],
   "source": [
    "fig, (ax1, ax2) = plt.subplots(1, 2, figsize=(10,4))\n",
    "\n",
    "ax1.plot(range(0, pca.n_samples_), pca.explained_variance_ratio_*100, 'o-', markersize=5, markerfacecolor=\"None\", markeredgewidth=1)\n",
    "ax1.set_ylabel('Prop. Variance Explained')\n",
    "\n",
    "ax2.plot(range(0, pca.n_samples_), np.cumsum(pca.explained_variance_ratio_)*100, 'o-', markersize=5, markerfacecolor=\"None\", markeredgewidth=1)\n",
    "ax2.set_ylabel('Cumulative Prop. Variance Explained')\n",
    "\n",
    "for ax in (ax1, ax2):\n",
    "    #ax.set_ylim(bottom=-0.05, top=1.05)\n",
    "    ax.get_xaxis().set_major_locator(mpl.ticker.MaxNLocator(integer=True))\n",
    "    ax.set_xlabel('Principal Component')"
   ]
  },
  {
   "cell_type": "code",
   "execution_count": 305,
   "metadata": {},
   "outputs": [
    {
     "data": {
      "text/plain": [
       "array([1.13589448e-01, 6.75620313e-02, 5.75184267e-02, 4.24755326e-02,\n",
       "       3.73497178e-02, 3.61862912e-02, 3.06622276e-02, 2.68590289e-02,\n",
       "       2.52949771e-02, 2.37586902e-02, 2.35655828e-02, 2.16412170e-02,\n",
       "       2.04909777e-02, 1.97881771e-02, 1.91541707e-02, 1.77176055e-02,\n",
       "       1.66273000e-02, 1.61075885e-02, 1.59433329e-02, 1.55991897e-02,\n",
       "       1.50721629e-02, 1.48009891e-02, 1.43576224e-02, 1.36277113e-02,\n",
       "       1.32350216e-02, 1.27519879e-02, 1.25903723e-02, 1.20979447e-02,\n",
       "       1.18098753e-02, 1.12098164e-02, 1.08277451e-02, 1.04477525e-02,\n",
       "       1.02647004e-02, 9.88274842e-03, 9.74256849e-03, 9.31114593e-03,\n",
       "       9.14795021e-03, 8.95640753e-03, 8.72950608e-03, 8.42575424e-03,\n",
       "       8.13979538e-03, 7.89749468e-03, 7.39000767e-03, 7.20101492e-03,\n",
       "       7.08918418e-03, 6.90272287e-03, 6.78495259e-03, 6.47012924e-03,\n",
       "       6.40883493e-03, 6.01193913e-03, 5.66418541e-03, 5.63403152e-03,\n",
       "       5.38935803e-03, 5.12786577e-03, 5.11796222e-03, 4.81620220e-03,\n",
       "       4.38498782e-03, 4.10056653e-03, 3.69138982e-03, 3.21224834e-03,\n",
       "       2.55289203e-03, 2.43977859e-03, 2.39115966e-03, 2.24015688e-32])"
      ]
     },
     "execution_count": 305,
     "metadata": {},
     "output_type": "execute_result"
    }
   ],
   "source": [
    "pca.explained_variance_ratio_"
   ]
  },
  {
   "cell_type": "code",
   "execution_count": 320,
   "metadata": {},
   "outputs": [
    {
     "data": {
      "text/plain": [
       "range(0, 64)"
      ]
     },
     "execution_count": 320,
     "metadata": {},
     "output_type": "execute_result"
    }
   ],
   "source": [
    "range(0, pca.n_samples_)"
   ]
  },
  {
   "cell_type": "code",
   "execution_count": null,
   "metadata": {},
   "outputs": [],
   "source": []
  }
 ],
 "metadata": {
  "kernelspec": {
   "display_name": "Python 3",
   "language": "python",
   "name": "python3"
  },
  "language_info": {
   "codemirror_mode": {
    "name": "ipython",
    "version": 3
   },
   "file_extension": ".py",
   "mimetype": "text/x-python",
   "name": "python",
   "nbconvert_exporter": "python",
   "pygments_lexer": "ipython3",
   "version": "3.6.5"
  }
 },
 "nbformat": 4,
 "nbformat_minor": 2
}
