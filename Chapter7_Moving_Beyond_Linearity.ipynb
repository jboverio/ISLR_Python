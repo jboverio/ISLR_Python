{
 "cells": [
  {
   "cell_type": "markdown",
   "metadata": {},
   "source": [
    "# Chapter 7 - Moving Beyond Linearity"
   ]
  },
  {
   "cell_type": "code",
   "execution_count": 294,
   "metadata": {},
   "outputs": [],
   "source": [
    "import pandas as pd\n",
    "from pandas.api.types import CategoricalDtype\n",
    "import numpy as np\n",
    "import matplotlib.pyplot as plt\n",
    "import seaborn as sns\n",
    "\n",
    "import sklearn.linear_model as skl_lm\n",
    "from sklearn.preprocessing import PolynomialFeatures, StandardScaler\n",
    "from sklearn.pipeline import Pipeline\n",
    "import statsmodels.api as sm\n",
    "import statsmodels.formula.api as smf\n",
    "from patsy import dmatrix\n",
    "\n",
    "from plot_lm import plot_lm\n",
    "\n",
    "import re\n",
    "\n",
    "%matplotlib inline\n",
    "plt.style.use('seaborn-white')"
   ]
  },
  {
   "cell_type": "code",
   "execution_count": 116,
   "metadata": {},
   "outputs": [
    {
     "name": "stdout",
     "output_type": "stream",
     "text": [
      "sex: ['Male']\n",
      "maritl: ['Never Married' 'Married' 'Widowed' 'Divorced' 'Separated']\n",
      "race: ['White' 'Black' 'Asian' 'Other']\n",
      "education: ['< HS Grad' 'HS Grad' 'Some College' 'College Grad' 'Advanced Degree']\n",
      "region: ['Middle Atlantic']\n",
      "jobclass: ['Industrial' 'Information']\n",
      "health: ['<=Good' '>=Very Good']\n",
      "health_ins: ['Yes' 'No']\n"
     ]
    },
    {
     "data": {
      "text/html": [
       "<div>\n",
       "<style scoped>\n",
       "    .dataframe tbody tr th:only-of-type {\n",
       "        vertical-align: middle;\n",
       "    }\n",
       "\n",
       "    .dataframe tbody tr th {\n",
       "        vertical-align: top;\n",
       "    }\n",
       "\n",
       "    .dataframe thead th {\n",
       "        text-align: right;\n",
       "    }\n",
       "</style>\n",
       "<table border=\"1\" class=\"dataframe\">\n",
       "  <thead>\n",
       "    <tr style=\"text-align: right;\">\n",
       "      <th></th>\n",
       "      <th>ID</th>\n",
       "      <th>year</th>\n",
       "      <th>age</th>\n",
       "      <th>sex</th>\n",
       "      <th>maritl</th>\n",
       "      <th>race</th>\n",
       "      <th>education</th>\n",
       "      <th>region</th>\n",
       "      <th>jobclass</th>\n",
       "      <th>health</th>\n",
       "      <th>health_ins</th>\n",
       "      <th>logwage</th>\n",
       "      <th>wage</th>\n",
       "    </tr>\n",
       "  </thead>\n",
       "  <tbody>\n",
       "    <tr>\n",
       "      <th>0</th>\n",
       "      <td>231655</td>\n",
       "      <td>2006</td>\n",
       "      <td>18</td>\n",
       "      <td>Male</td>\n",
       "      <td>Never Married</td>\n",
       "      <td>White</td>\n",
       "      <td>&lt; HS Grad</td>\n",
       "      <td>Middle Atlantic</td>\n",
       "      <td>Industrial</td>\n",
       "      <td>&lt;=Good</td>\n",
       "      <td>No</td>\n",
       "      <td>4.318063</td>\n",
       "      <td>75.043154</td>\n",
       "    </tr>\n",
       "    <tr>\n",
       "      <th>1</th>\n",
       "      <td>86582</td>\n",
       "      <td>2004</td>\n",
       "      <td>24</td>\n",
       "      <td>Male</td>\n",
       "      <td>Never Married</td>\n",
       "      <td>White</td>\n",
       "      <td>College Grad</td>\n",
       "      <td>Middle Atlantic</td>\n",
       "      <td>Information</td>\n",
       "      <td>&gt;=Very Good</td>\n",
       "      <td>No</td>\n",
       "      <td>4.255273</td>\n",
       "      <td>70.476020</td>\n",
       "    </tr>\n",
       "    <tr>\n",
       "      <th>2</th>\n",
       "      <td>161300</td>\n",
       "      <td>2003</td>\n",
       "      <td>45</td>\n",
       "      <td>Male</td>\n",
       "      <td>Married</td>\n",
       "      <td>White</td>\n",
       "      <td>Some College</td>\n",
       "      <td>Middle Atlantic</td>\n",
       "      <td>Industrial</td>\n",
       "      <td>&lt;=Good</td>\n",
       "      <td>Yes</td>\n",
       "      <td>4.875061</td>\n",
       "      <td>130.982177</td>\n",
       "    </tr>\n",
       "  </tbody>\n",
       "</table>\n",
       "</div>"
      ],
      "text/plain": [
       "       ID  year  age   sex         maritl   race     education  \\\n",
       "0  231655  2006   18  Male  Never Married  White     < HS Grad   \n",
       "1   86582  2004   24  Male  Never Married  White  College Grad   \n",
       "2  161300  2003   45  Male        Married  White  Some College   \n",
       "\n",
       "            region     jobclass       health health_ins   logwage        wage  \n",
       "0  Middle Atlantic   Industrial       <=Good         No  4.318063   75.043154  \n",
       "1  Middle Atlantic  Information  >=Very Good         No  4.255273   70.476020  \n",
       "2  Middle Atlantic   Industrial       <=Good        Yes  4.875061  130.982177  "
      ]
     },
     "execution_count": 116,
     "metadata": {},
     "output_type": "execute_result"
    }
   ],
   "source": [
    "df_wage = pd.read_csv('Data/Wage.csv')\n",
    "df_wage.rename(columns={'Unnamed: 0': 'ID'}, inplace=True)\n",
    "for col_name in df_wage.columns:\n",
    "    if df_wage[col_name].dtype == 'object':\n",
    "        # get list of categories\n",
    "        cat_list = np.sort(df_wage[col_name].unique())\n",
    "        # create a categorical dtype that is ordered for the columns that makes sense\n",
    "        cat_dtype = CategoricalDtype(cat_list, ordered=True if col_name in ['education', 'health'] else False)        \n",
    "        df_wage[col_name] = df_wage[col_name].astype(cat_dtype)\n",
    "        # strip '#. ' from the categories names\n",
    "        df_wage[col_name].cat.categories  = [re.sub(r\"\\d+.\\s+\", \"\", cat) for cat in cat_list]\n",
    "        print(f'{col_name}: {df_wage[col_name].cat.categories.values}')\n",
    "df_wage.head(3)"
   ]
  },
  {
   "cell_type": "code",
   "execution_count": 114,
   "metadata": {},
   "outputs": [
    {
     "data": {
      "text/html": [
       "<div>\n",
       "<style scoped>\n",
       "    .dataframe tbody tr th:only-of-type {\n",
       "        vertical-align: middle;\n",
       "    }\n",
       "\n",
       "    .dataframe tbody tr th {\n",
       "        vertical-align: top;\n",
       "    }\n",
       "\n",
       "    .dataframe thead th {\n",
       "        text-align: right;\n",
       "    }\n",
       "</style>\n",
       "<table border=\"1\" class=\"dataframe\">\n",
       "  <thead>\n",
       "    <tr style=\"text-align: right;\">\n",
       "      <th></th>\n",
       "      <th>ID</th>\n",
       "      <th>year</th>\n",
       "      <th>age</th>\n",
       "      <th>logwage</th>\n",
       "      <th>wage</th>\n",
       "    </tr>\n",
       "  </thead>\n",
       "  <tbody>\n",
       "    <tr>\n",
       "      <th>count</th>\n",
       "      <td>3000.000000</td>\n",
       "      <td>3000.000000</td>\n",
       "      <td>3000.000000</td>\n",
       "      <td>3000.000000</td>\n",
       "      <td>3000.000000</td>\n",
       "    </tr>\n",
       "    <tr>\n",
       "      <th>mean</th>\n",
       "      <td>218883.373000</td>\n",
       "      <td>2005.791000</td>\n",
       "      <td>42.414667</td>\n",
       "      <td>4.653905</td>\n",
       "      <td>111.703608</td>\n",
       "    </tr>\n",
       "    <tr>\n",
       "      <th>std</th>\n",
       "      <td>145654.072587</td>\n",
       "      <td>2.026167</td>\n",
       "      <td>11.542406</td>\n",
       "      <td>0.351753</td>\n",
       "      <td>41.728595</td>\n",
       "    </tr>\n",
       "    <tr>\n",
       "      <th>min</th>\n",
       "      <td>7373.000000</td>\n",
       "      <td>2003.000000</td>\n",
       "      <td>18.000000</td>\n",
       "      <td>3.000000</td>\n",
       "      <td>20.085537</td>\n",
       "    </tr>\n",
       "    <tr>\n",
       "      <th>25%</th>\n",
       "      <td>85622.250000</td>\n",
       "      <td>2004.000000</td>\n",
       "      <td>33.750000</td>\n",
       "      <td>4.447158</td>\n",
       "      <td>85.383940</td>\n",
       "    </tr>\n",
       "    <tr>\n",
       "      <th>50%</th>\n",
       "      <td>228799.500000</td>\n",
       "      <td>2006.000000</td>\n",
       "      <td>42.000000</td>\n",
       "      <td>4.653213</td>\n",
       "      <td>104.921507</td>\n",
       "    </tr>\n",
       "    <tr>\n",
       "      <th>75%</th>\n",
       "      <td>374759.500000</td>\n",
       "      <td>2008.000000</td>\n",
       "      <td>51.000000</td>\n",
       "      <td>4.857332</td>\n",
       "      <td>128.680488</td>\n",
       "    </tr>\n",
       "    <tr>\n",
       "      <th>max</th>\n",
       "      <td>453870.000000</td>\n",
       "      <td>2009.000000</td>\n",
       "      <td>80.000000</td>\n",
       "      <td>5.763128</td>\n",
       "      <td>318.342430</td>\n",
       "    </tr>\n",
       "  </tbody>\n",
       "</table>\n",
       "</div>"
      ],
      "text/plain": [
       "                  ID         year          age      logwage         wage\n",
       "count    3000.000000  3000.000000  3000.000000  3000.000000  3000.000000\n",
       "mean   218883.373000  2005.791000    42.414667     4.653905   111.703608\n",
       "std    145654.072587     2.026167    11.542406     0.351753    41.728595\n",
       "min      7373.000000  2003.000000    18.000000     3.000000    20.085537\n",
       "25%     85622.250000  2004.000000    33.750000     4.447158    85.383940\n",
       "50%    228799.500000  2006.000000    42.000000     4.653213   104.921507\n",
       "75%    374759.500000  2008.000000    51.000000     4.857332   128.680488\n",
       "max    453870.000000  2009.000000    80.000000     5.763128   318.342430"
      ]
     },
     "execution_count": 114,
     "metadata": {},
     "output_type": "execute_result"
    }
   ],
   "source": [
    "df_wage.describe()"
   ]
  },
  {
   "cell_type": "code",
   "execution_count": 115,
   "metadata": {},
   "outputs": [
    {
     "data": {
      "text/html": [
       "<div>\n",
       "<style scoped>\n",
       "    .dataframe tbody tr th:only-of-type {\n",
       "        vertical-align: middle;\n",
       "    }\n",
       "\n",
       "    .dataframe tbody tr th {\n",
       "        vertical-align: top;\n",
       "    }\n",
       "\n",
       "    .dataframe thead th {\n",
       "        text-align: right;\n",
       "    }\n",
       "</style>\n",
       "<table border=\"1\" class=\"dataframe\">\n",
       "  <thead>\n",
       "    <tr style=\"text-align: right;\">\n",
       "      <th></th>\n",
       "      <th>sex</th>\n",
       "      <th>maritl</th>\n",
       "      <th>race</th>\n",
       "      <th>education</th>\n",
       "      <th>region</th>\n",
       "      <th>jobclass</th>\n",
       "      <th>health</th>\n",
       "      <th>health_ins</th>\n",
       "    </tr>\n",
       "  </thead>\n",
       "  <tbody>\n",
       "    <tr>\n",
       "      <th>count</th>\n",
       "      <td>3000</td>\n",
       "      <td>3000</td>\n",
       "      <td>3000</td>\n",
       "      <td>3000</td>\n",
       "      <td>3000</td>\n",
       "      <td>3000</td>\n",
       "      <td>3000</td>\n",
       "      <td>3000</td>\n",
       "    </tr>\n",
       "    <tr>\n",
       "      <th>unique</th>\n",
       "      <td>1</td>\n",
       "      <td>5</td>\n",
       "      <td>4</td>\n",
       "      <td>5</td>\n",
       "      <td>1</td>\n",
       "      <td>2</td>\n",
       "      <td>2</td>\n",
       "      <td>2</td>\n",
       "    </tr>\n",
       "    <tr>\n",
       "      <th>top</th>\n",
       "      <td>Male</td>\n",
       "      <td>Married</td>\n",
       "      <td>White</td>\n",
       "      <td>HS Grad</td>\n",
       "      <td>Middle Atlantic</td>\n",
       "      <td>Industrial</td>\n",
       "      <td>&gt;=Very Good</td>\n",
       "      <td>Yes</td>\n",
       "    </tr>\n",
       "    <tr>\n",
       "      <th>freq</th>\n",
       "      <td>3000</td>\n",
       "      <td>2074</td>\n",
       "      <td>2480</td>\n",
       "      <td>971</td>\n",
       "      <td>3000</td>\n",
       "      <td>1544</td>\n",
       "      <td>2142</td>\n",
       "      <td>2083</td>\n",
       "    </tr>\n",
       "  </tbody>\n",
       "</table>\n",
       "</div>"
      ],
      "text/plain": [
       "         sex   maritl   race education           region    jobclass  \\\n",
       "count   3000     3000   3000      3000             3000        3000   \n",
       "unique     1        5      4         5                1           2   \n",
       "top     Male  Married  White   HS Grad  Middle Atlantic  Industrial   \n",
       "freq    3000     2074   2480       971             3000        1544   \n",
       "\n",
       "             health health_ins  \n",
       "count          3000       3000  \n",
       "unique            2          2  \n",
       "top     >=Very Good        Yes  \n",
       "freq           2142       2083  "
      ]
     },
     "execution_count": 115,
     "metadata": {},
     "output_type": "execute_result"
    }
   ],
   "source": [
    "df_wage.describe(include='category')"
   ]
  },
  {
   "cell_type": "markdown",
   "metadata": {},
   "source": [
    "#### FIGURE 7.1"
   ]
  },
  {
   "cell_type": "code",
   "execution_count": 299,
   "metadata": {},
   "outputs": [
    {
     "data": {
      "text/plain": [
       "LinearRegression(copy_X=True, fit_intercept=True, n_jobs=1, normalize=False)"
      ]
     },
     "execution_count": 299,
     "metadata": {},
     "output_type": "execute_result"
    }
   ],
   "source": [
    "# polynomial regression\n",
    "linear = skl_lm.LinearRegression()\n",
    "poly = PolynomialFeatures(4)\n",
    "\n",
    "X = df_wage['age'].values.reshape(-1, 1)\n",
    "y = df_wage['wage']\n",
    "\n",
    "X_poly = poly.fit_transform(X)\n",
    "linear.fit(X_poly, y)"
   ]
  },
  {
   "cell_type": "code",
   "execution_count": 339,
   "metadata": {},
   "outputs": [
    {
     "data": {
      "text/plain": [
       "LogisticRegression(C=10000000000.0, class_weight=None, dual=False,\n",
       "          fit_intercept=True, intercept_scaling=1, max_iter=100,\n",
       "          multi_class='ovr', n_jobs=1, penalty='l2', random_state=None,\n",
       "          solver='liblinear', tol=0.0001, verbose=0, warm_start=False)"
      ]
     },
     "execution_count": 339,
     "metadata": {},
     "output_type": "execute_result"
    }
   ],
   "source": [
    "# logistic regression\n",
    "df_logistic_wage = pd.DataFrame({'age': df_wage['age'].values, 'large_wage': df_wage['wage'].values > 250}, columns=['age', 'large_wage'])\n",
    "df_logistic_wage.large_wage = df_logistic_wage.large_wage.astype(int)\n",
    "\n",
    "logistic = skl_lm.LogisticRegression(C=1e10)\n",
    "\n",
    "X = df_logistic_wage['age'].values.reshape(-1, 1).astype(float)\n",
    "y = df_logistic_wage['large_wage']\n",
    "\n",
    "pipe = Pipeline(steps=[('scaler', StandardScaler()), ('polynomial', PolynomialFeatures(4))])\n",
    "\n",
    "X_final = pipe.fit_transform(X)\n",
    "logistic.fit(X_final, y)"
   ]
  },
  {
   "cell_type": "code",
   "execution_count": 340,
   "metadata": {},
   "outputs": [
    {
     "data": {
      "image/png": "[encoded data removed]",
      "text/plain": [
       "<Figure size 720x288 with 2 Axes>"
      ]
     },
     "metadata": {},
     "output_type": "display_data"
    }
   ],
   "source": [
    "fig, (ax1, ax2) = plt.subplots(1, 2, figsize=(10,4))\n",
    "\n",
    "ax1.scatter(df_wage.age, df_wage.wage, facecolors='None', edgecolors='grey', alpha=.5)\n",
    "# seaborn uses np.polyfit to fit a polynomial of order 4 to the data, basically the same we did with sklearn\n",
    "sns.regplot(df_wage.age, df_wage.wage, ci=100, label='Degree 4', order=4, scatter=False, color='blue', ax=ax1)\n",
    "\n",
    "#plt.scatter(df_logistic_wage.age, df_logistic_wage.large_wage, facecolors='None', edgecolors='grey', alpha=.5)\n",
    "age_range = np.linspace(df_logistic_wage.age.min(), df_logistic_wage.age.max(), 1000).reshape((-1, 1))\n",
    "age_range_poly = pipe.transform(age_range)\n",
    "predictions = logistic.predict_proba(age_range_poly)[:, 1]\n",
    "# probability of wage > 250 given age\n",
    "ax2.plot(age_range, predictions)\n",
    "ax2.set_ylim(ymin=-0.005);\n",
    "# rug plot\n",
    "ax2.plot(df_logistic_wage.age, df_logistic_wage.large_wage*np.max(predictions), '|', color='k')\n",
    "ax2.set_xlabel('age')\n",
    "ax2.set_ylabel('P(wage>250|age)');"
   ]
  },
  {
   "cell_type": "code",
   "execution_count": 320,
   "metadata": {},
   "outputs": [
    {
     "data": {
      "text/plain": [
       "Pipeline(memory=None,\n",
       "     steps=[('scaler', StandardScaler(copy=True, with_mean=True, with_std=True)), ('polynomial', PolynomialFeatures(degree=4, include_bias=True, interaction_only=False))])"
      ]
     },
     "execution_count": 320,
     "metadata": {},
     "output_type": "execute_result"
    }
   ],
   "source": [
    "pipe"
   ]
  },
  {
   "cell_type": "code",
   "execution_count": 321,
   "metadata": {},
   "outputs": [
    {
     "data": {
      "text/plain": [
       "(1000, 5)"
      ]
     },
     "execution_count": 321,
     "metadata": {},
     "output_type": "execute_result"
    }
   ],
   "source": [
    "age_range_poly.shape"
   ]
  },
  {
   "cell_type": "code",
   "execution_count": 322,
   "metadata": {},
   "outputs": [
    {
     "data": {
      "text/plain": [
       "array([[ 1.00000000e+00, -2.11556738e+00,  4.47562534e+00,\n",
       "        -9.46848697e+00,  2.00312222e+01],\n",
       "       [ 1.00000000e+00, -1.59565841e+00,  2.54612575e+00,\n",
       "        -4.06274696e+00,  6.48275634e+00],\n",
       "       [ 1.00000000e+00,  2.24023000e-01,  5.01863045e-02,\n",
       "         1.12428865e-02,  2.51866515e-03],\n",
       "       ...,\n",
       "       [ 1.00000000e+00, -1.33570392e+00,  1.78410496e+00,\n",
       "        -2.38303599e+00,  3.18303052e+00],\n",
       "       [ 1.00000000e+00, -1.33570392e+00,  1.78410496e+00,\n",
       "        -2.38303599e+00,  3.18303052e+00],\n",
       "       [ 1.00000000e+00,  1.09053796e+00,  1.18927303e+00,\n",
       "         1.29694738e+00,  1.41437034e+00]])"
      ]
     },
     "execution_count": 322,
     "metadata": {},
     "output_type": "execute_result"
    }
   ],
   "source": [
    "X_final"
   ]
  },
  {
   "cell_type": "code",
   "execution_count": null,
   "metadata": {},
   "outputs": [],
   "source": []
  }
 ],
 "metadata": {
  "kernelspec": {
   "display_name": "Python 3",
   "language": "python",
   "name": "python3"
  },
  "language_info": {
   "codemirror_mode": {
    "name": "ipython",
    "version": 3
   },
   "file_extension": ".py",
   "mimetype": "text/x-python",
   "name": "python",
   "nbconvert_exporter": "python",
   "pygments_lexer": "ipython3",
   "version": "3.6.5"
  }
 },
 "nbformat": 4,
 "nbformat_minor": 2
}
